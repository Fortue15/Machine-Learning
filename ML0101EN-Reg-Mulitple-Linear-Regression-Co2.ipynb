{
 "cells": [
  {
   "cell_type": "markdown",
   "metadata": {
    "button": false,
    "new_sheet": false,
    "run_control": {
     "read_only": false
    }
   },
   "source": [
    "<p style=\"text-align:center\">\n",
    "    <a href=\"https://skills.network/?utm_medium=Exinfluencer&utm_source=Exinfluencer&utm_content=000026UJ&utm_term=10006555&utm_id=NA-SkillsNetwork-Channel-SkillsNetworkCoursesIBMDeveloperSkillsNetworkML0101ENSkillsNetwork1047-2023-01-01\">\n",
    "    <img src=\"https://cf-courses-data.s3.us.cloud-object-storage.appdomain.cloud/assets/logos/SN_web_lightmode.png\" width=\"200\" alt=\"Skills Network Logo\"  />\n",
    "    </a>\n",
    "</p>\n",
    "\n",
    "\n",
    "# Multiple Linear Regression\n",
    "\n",
    "\n",
    "Estimated time needed: **15** minutes\n",
    "    \n",
    "\n",
    "## Objectives\n",
    "\n",
    "After completing this lab you will be able to:\n",
    "\n",
    "* Use scikit-learn to implement Multiple Linear Regression\n",
    "* Create a model, train it, test it and use the model\n"
   ]
  },
  {
   "cell_type": "markdown",
   "metadata": {},
   "source": [
    "<h1>Table of contents</h1>\n",
    "\n",
    "<div class=\"alert alert-block alert-info\" style=\"margin-top: 20px\">\n",
    "    <ol>\n",
    "        <li><a href=\"#understanding-data\">Understanding the Data</a></li>\n",
    "        <li><a href=\"#reading_data\">Reading the Data in</a></li>\n",
    "        <li><a href=\"#multiple_regression_model\">Multiple Regression Model</a></li>\n",
    "        <li><a href=\"#prediction\">Prediction</a></li>\n",
    "        <li><a href=\"#practice\">Practice</a></li>\n",
    "    </ol>\n",
    "</div>\n",
    "<br>\n",
    "<hr>\n"
   ]
  },
  {
   "cell_type": "markdown",
   "metadata": {
    "button": false,
    "new_sheet": false,
    "run_control": {
     "read_only": false
    }
   },
   "source": [
    "### Importing Needed packages\n"
   ]
  },
  {
   "cell_type": "code",
   "execution_count": 1,
   "metadata": {
    "button": false,
    "new_sheet": false,
    "run_control": {
     "read_only": false
    },
    "tags": []
   },
   "outputs": [],
   "source": [
    "import matplotlib.pyplot as plt\n",
    "import pandas as pd\n",
    "import pylab as pl\n",
    "import numpy as np\n",
    "%matplotlib inline"
   ]
  },
  {
   "cell_type": "markdown",
   "metadata": {
    "button": false,
    "new_sheet": false,
    "run_control": {
     "read_only": false
    }
   },
   "source": [
    "### Downloading Data\n",
    "To download the data, we will use !wget to download it from IBM Object Storage.\n"
   ]
  },
  {
   "cell_type": "code",
   "execution_count": 2,
   "metadata": {
    "button": false,
    "new_sheet": false,
    "run_control": {
     "read_only": false
    },
    "tags": []
   },
   "outputs": [
    {
     "name": "stdout",
     "output_type": "stream",
     "text": [
      "--2023-06-12 17:33:48--  https://cf-courses-data.s3.us.cloud-object-storage.appdomain.cloud/IBMDeveloperSkillsNetwork-ML0101EN-SkillsNetwork/labs/Module%202/data/FuelConsumptionCo2.csv\n",
      "Resolving cf-courses-data.s3.us.cloud-object-storage.appdomain.cloud (cf-courses-data.s3.us.cloud-object-storage.appdomain.cloud)... 169.63.118.104\n",
      "Connecting to cf-courses-data.s3.us.cloud-object-storage.appdomain.cloud (cf-courses-data.s3.us.cloud-object-storage.appdomain.cloud)|169.63.118.104|:443... connected.\n",
      "HTTP request sent, awaiting response... 200 OK\n",
      "Length: 72629 (71K) [text/csv]\n",
      "Saving to: ‘FuelConsumption.csv’\n",
      "\n",
      "FuelConsumption.csv 100%[===================>]  70.93K  --.-KB/s    in 0.004s  \n",
      "\n",
      "2023-06-12 17:33:48 (18.0 MB/s) - ‘FuelConsumption.csv’ saved [72629/72629]\n",
      "\n"
     ]
    }
   ],
   "source": [
    "!wget -O FuelConsumption.csv https://cf-courses-data.s3.us.cloud-object-storage.appdomain.cloud/IBMDeveloperSkillsNetwork-ML0101EN-SkillsNetwork/labs/Module%202/data/FuelConsumptionCo2.csv"
   ]
  },
  {
   "cell_type": "markdown",
   "metadata": {},
   "source": [
    "__Did you know?__ When it comes to Machine Learning, you will likely be working with large datasets. As a business, where can you host your data? IBM is offering a unique opportunity for businesses, with 10 Tb of IBM Cloud Object Storage: [Sign up now for free](http://cocl.us/ML0101EN-IBM-Offer-CC)\n"
   ]
  },
  {
   "cell_type": "markdown",
   "metadata": {
    "button": false,
    "new_sheet": false,
    "run_control": {
     "read_only": false
    }
   },
   "source": [
    "\n",
    "<h2 id=\"understanding_data\">Understanding the Data</h2>\n",
    "\n",
    "### `FuelConsumption.csv`:\n",
    "We have downloaded a fuel consumption dataset, **`FuelConsumption.csv`**, which contains model-specific fuel consumption ratings and estimated carbon dioxide emissions for new light-duty vehicles for retail sale in Canada. [Dataset source](http://open.canada.ca/data/en/dataset/98f1a129-f628-4ce4-b24d-6f16bf24dd64?utm_medium=Exinfluencer&utm_source=Exinfluencer&utm_content=000026UJ&utm_term=10006555&utm_id=NA-SkillsNetwork-Channel-SkillsNetworkCoursesIBMDeveloperSkillsNetworkML0101ENSkillsNetwork1047-2023-01-01)\n",
    "\n",
    "- **MODELYEAR** e.g. 2014\n",
    "- **MAKE** e.g. Acura\n",
    "- **MODEL** e.g. ILX\n",
    "- **VEHICLE CLASS** e.g. SUV\n",
    "- **ENGINE SIZE** e.g. 4.7\n",
    "- **CYLINDERS** e.g 6\n",
    "- **TRANSMISSION** e.g. A6\n",
    "- **FUELTYPE** e.g. z\n",
    "- **FUEL CONSUMPTION in CITY(L/100 km)** e.g. 9.9\n",
    "- **FUEL CONSUMPTION in HWY (L/100 km)** e.g. 8.9\n",
    "- **FUEL CONSUMPTION COMB (L/100 km)** e.g. 9.2\n",
    "- **CO2 EMISSIONS (g/km)** e.g. 182   --> low --> 0\n"
   ]
  },
  {
   "cell_type": "markdown",
   "metadata": {
    "button": false,
    "new_sheet": false,
    "run_control": {
     "read_only": false
    }
   },
   "source": [
    "<h2 id=\"reading_data\">Reading the data in</h2>\n"
   ]
  },
  {
   "cell_type": "code",
   "execution_count": 3,
   "metadata": {
    "button": false,
    "new_sheet": false,
    "run_control": {
     "read_only": false
    },
    "tags": []
   },
   "outputs": [
    {
     "data": {
      "text/html": [
       "<div>\n",
       "<style scoped>\n",
       "    .dataframe tbody tr th:only-of-type {\n",
       "        vertical-align: middle;\n",
       "    }\n",
       "\n",
       "    .dataframe tbody tr th {\n",
       "        vertical-align: top;\n",
       "    }\n",
       "\n",
       "    .dataframe thead th {\n",
       "        text-align: right;\n",
       "    }\n",
       "</style>\n",
       "<table border=\"1\" class=\"dataframe\">\n",
       "  <thead>\n",
       "    <tr style=\"text-align: right;\">\n",
       "      <th></th>\n",
       "      <th>MODELYEAR</th>\n",
       "      <th>MAKE</th>\n",
       "      <th>MODEL</th>\n",
       "      <th>VEHICLECLASS</th>\n",
       "      <th>ENGINESIZE</th>\n",
       "      <th>CYLINDERS</th>\n",
       "      <th>TRANSMISSION</th>\n",
       "      <th>FUELTYPE</th>\n",
       "      <th>FUELCONSUMPTION_CITY</th>\n",
       "      <th>FUELCONSUMPTION_HWY</th>\n",
       "      <th>FUELCONSUMPTION_COMB</th>\n",
       "      <th>FUELCONSUMPTION_COMB_MPG</th>\n",
       "      <th>CO2EMISSIONS</th>\n",
       "    </tr>\n",
       "  </thead>\n",
       "  <tbody>\n",
       "    <tr>\n",
       "      <th>0</th>\n",
       "      <td>2014</td>\n",
       "      <td>ACURA</td>\n",
       "      <td>ILX</td>\n",
       "      <td>COMPACT</td>\n",
       "      <td>2.0</td>\n",
       "      <td>4</td>\n",
       "      <td>AS5</td>\n",
       "      <td>Z</td>\n",
       "      <td>9.9</td>\n",
       "      <td>6.7</td>\n",
       "      <td>8.5</td>\n",
       "      <td>33</td>\n",
       "      <td>196</td>\n",
       "    </tr>\n",
       "    <tr>\n",
       "      <th>1</th>\n",
       "      <td>2014</td>\n",
       "      <td>ACURA</td>\n",
       "      <td>ILX</td>\n",
       "      <td>COMPACT</td>\n",
       "      <td>2.4</td>\n",
       "      <td>4</td>\n",
       "      <td>M6</td>\n",
       "      <td>Z</td>\n",
       "      <td>11.2</td>\n",
       "      <td>7.7</td>\n",
       "      <td>9.6</td>\n",
       "      <td>29</td>\n",
       "      <td>221</td>\n",
       "    </tr>\n",
       "    <tr>\n",
       "      <th>2</th>\n",
       "      <td>2014</td>\n",
       "      <td>ACURA</td>\n",
       "      <td>ILX HYBRID</td>\n",
       "      <td>COMPACT</td>\n",
       "      <td>1.5</td>\n",
       "      <td>4</td>\n",
       "      <td>AV7</td>\n",
       "      <td>Z</td>\n",
       "      <td>6.0</td>\n",
       "      <td>5.8</td>\n",
       "      <td>5.9</td>\n",
       "      <td>48</td>\n",
       "      <td>136</td>\n",
       "    </tr>\n",
       "    <tr>\n",
       "      <th>3</th>\n",
       "      <td>2014</td>\n",
       "      <td>ACURA</td>\n",
       "      <td>MDX 4WD</td>\n",
       "      <td>SUV - SMALL</td>\n",
       "      <td>3.5</td>\n",
       "      <td>6</td>\n",
       "      <td>AS6</td>\n",
       "      <td>Z</td>\n",
       "      <td>12.7</td>\n",
       "      <td>9.1</td>\n",
       "      <td>11.1</td>\n",
       "      <td>25</td>\n",
       "      <td>255</td>\n",
       "    </tr>\n",
       "    <tr>\n",
       "      <th>4</th>\n",
       "      <td>2014</td>\n",
       "      <td>ACURA</td>\n",
       "      <td>RDX AWD</td>\n",
       "      <td>SUV - SMALL</td>\n",
       "      <td>3.5</td>\n",
       "      <td>6</td>\n",
       "      <td>AS6</td>\n",
       "      <td>Z</td>\n",
       "      <td>12.1</td>\n",
       "      <td>8.7</td>\n",
       "      <td>10.6</td>\n",
       "      <td>27</td>\n",
       "      <td>244</td>\n",
       "    </tr>\n",
       "  </tbody>\n",
       "</table>\n",
       "</div>"
      ],
      "text/plain": [
       "   MODELYEAR   MAKE       MODEL VEHICLECLASS  ENGINESIZE  CYLINDERS  \\\n",
       "0       2014  ACURA         ILX      COMPACT         2.0          4   \n",
       "1       2014  ACURA         ILX      COMPACT         2.4          4   \n",
       "2       2014  ACURA  ILX HYBRID      COMPACT         1.5          4   \n",
       "3       2014  ACURA     MDX 4WD  SUV - SMALL         3.5          6   \n",
       "4       2014  ACURA     RDX AWD  SUV - SMALL         3.5          6   \n",
       "\n",
       "  TRANSMISSION FUELTYPE  FUELCONSUMPTION_CITY  FUELCONSUMPTION_HWY  \\\n",
       "0          AS5        Z                   9.9                  6.7   \n",
       "1           M6        Z                  11.2                  7.7   \n",
       "2          AV7        Z                   6.0                  5.8   \n",
       "3          AS6        Z                  12.7                  9.1   \n",
       "4          AS6        Z                  12.1                  8.7   \n",
       "\n",
       "   FUELCONSUMPTION_COMB  FUELCONSUMPTION_COMB_MPG  CO2EMISSIONS  \n",
       "0                   8.5                        33           196  \n",
       "1                   9.6                        29           221  \n",
       "2                   5.9                        48           136  \n",
       "3                  11.1                        25           255  \n",
       "4                  10.6                        27           244  "
      ]
     },
     "execution_count": 3,
     "metadata": {},
     "output_type": "execute_result"
    }
   ],
   "source": [
    "df = pd.read_csv(\"FuelConsumption.csv\")\n",
    "\n",
    "# take a look at the dataset\n",
    "df.head()"
   ]
  },
  {
   "cell_type": "markdown",
   "metadata": {},
   "source": [
    "Let's select some features that we want to use for regression.\n"
   ]
  },
  {
   "cell_type": "code",
   "execution_count": 4,
   "metadata": {
    "button": false,
    "new_sheet": false,
    "run_control": {
     "read_only": false
    },
    "tags": []
   },
   "outputs": [
    {
     "data": {
      "text/html": [
       "<div>\n",
       "<style scoped>\n",
       "    .dataframe tbody tr th:only-of-type {\n",
       "        vertical-align: middle;\n",
       "    }\n",
       "\n",
       "    .dataframe tbody tr th {\n",
       "        vertical-align: top;\n",
       "    }\n",
       "\n",
       "    .dataframe thead th {\n",
       "        text-align: right;\n",
       "    }\n",
       "</style>\n",
       "<table border=\"1\" class=\"dataframe\">\n",
       "  <thead>\n",
       "    <tr style=\"text-align: right;\">\n",
       "      <th></th>\n",
       "      <th>ENGINESIZE</th>\n",
       "      <th>CYLINDERS</th>\n",
       "      <th>FUELCONSUMPTION_CITY</th>\n",
       "      <th>FUELCONSUMPTION_HWY</th>\n",
       "      <th>FUELCONSUMPTION_COMB</th>\n",
       "      <th>CO2EMISSIONS</th>\n",
       "    </tr>\n",
       "  </thead>\n",
       "  <tbody>\n",
       "    <tr>\n",
       "      <th>0</th>\n",
       "      <td>2.0</td>\n",
       "      <td>4</td>\n",
       "      <td>9.9</td>\n",
       "      <td>6.7</td>\n",
       "      <td>8.5</td>\n",
       "      <td>196</td>\n",
       "    </tr>\n",
       "    <tr>\n",
       "      <th>1</th>\n",
       "      <td>2.4</td>\n",
       "      <td>4</td>\n",
       "      <td>11.2</td>\n",
       "      <td>7.7</td>\n",
       "      <td>9.6</td>\n",
       "      <td>221</td>\n",
       "    </tr>\n",
       "    <tr>\n",
       "      <th>2</th>\n",
       "      <td>1.5</td>\n",
       "      <td>4</td>\n",
       "      <td>6.0</td>\n",
       "      <td>5.8</td>\n",
       "      <td>5.9</td>\n",
       "      <td>136</td>\n",
       "    </tr>\n",
       "    <tr>\n",
       "      <th>3</th>\n",
       "      <td>3.5</td>\n",
       "      <td>6</td>\n",
       "      <td>12.7</td>\n",
       "      <td>9.1</td>\n",
       "      <td>11.1</td>\n",
       "      <td>255</td>\n",
       "    </tr>\n",
       "    <tr>\n",
       "      <th>4</th>\n",
       "      <td>3.5</td>\n",
       "      <td>6</td>\n",
       "      <td>12.1</td>\n",
       "      <td>8.7</td>\n",
       "      <td>10.6</td>\n",
       "      <td>244</td>\n",
       "    </tr>\n",
       "    <tr>\n",
       "      <th>5</th>\n",
       "      <td>3.5</td>\n",
       "      <td>6</td>\n",
       "      <td>11.9</td>\n",
       "      <td>7.7</td>\n",
       "      <td>10.0</td>\n",
       "      <td>230</td>\n",
       "    </tr>\n",
       "    <tr>\n",
       "      <th>6</th>\n",
       "      <td>3.5</td>\n",
       "      <td>6</td>\n",
       "      <td>11.8</td>\n",
       "      <td>8.1</td>\n",
       "      <td>10.1</td>\n",
       "      <td>232</td>\n",
       "    </tr>\n",
       "    <tr>\n",
       "      <th>7</th>\n",
       "      <td>3.7</td>\n",
       "      <td>6</td>\n",
       "      <td>12.8</td>\n",
       "      <td>9.0</td>\n",
       "      <td>11.1</td>\n",
       "      <td>255</td>\n",
       "    </tr>\n",
       "    <tr>\n",
       "      <th>8</th>\n",
       "      <td>3.7</td>\n",
       "      <td>6</td>\n",
       "      <td>13.4</td>\n",
       "      <td>9.5</td>\n",
       "      <td>11.6</td>\n",
       "      <td>267</td>\n",
       "    </tr>\n",
       "  </tbody>\n",
       "</table>\n",
       "</div>"
      ],
      "text/plain": [
       "   ENGINESIZE  CYLINDERS  FUELCONSUMPTION_CITY  FUELCONSUMPTION_HWY  \\\n",
       "0         2.0          4                   9.9                  6.7   \n",
       "1         2.4          4                  11.2                  7.7   \n",
       "2         1.5          4                   6.0                  5.8   \n",
       "3         3.5          6                  12.7                  9.1   \n",
       "4         3.5          6                  12.1                  8.7   \n",
       "5         3.5          6                  11.9                  7.7   \n",
       "6         3.5          6                  11.8                  8.1   \n",
       "7         3.7          6                  12.8                  9.0   \n",
       "8         3.7          6                  13.4                  9.5   \n",
       "\n",
       "   FUELCONSUMPTION_COMB  CO2EMISSIONS  \n",
       "0                   8.5           196  \n",
       "1                   9.6           221  \n",
       "2                   5.9           136  \n",
       "3                  11.1           255  \n",
       "4                  10.6           244  \n",
       "5                  10.0           230  \n",
       "6                  10.1           232  \n",
       "7                  11.1           255  \n",
       "8                  11.6           267  "
      ]
     },
     "execution_count": 4,
     "metadata": {},
     "output_type": "execute_result"
    }
   ],
   "source": [
    "cdf = df[['ENGINESIZE','CYLINDERS','FUELCONSUMPTION_CITY','FUELCONSUMPTION_HWY','FUELCONSUMPTION_COMB','CO2EMISSIONS']]\n",
    "cdf.head(9)"
   ]
  },
  {
   "cell_type": "markdown",
   "metadata": {},
   "source": [
    "Let's plot Emission values with respect to Engine size:\n"
   ]
  },
  {
   "cell_type": "code",
   "execution_count": 5,
   "metadata": {
    "button": false,
    "new_sheet": false,
    "run_control": {
     "read_only": false
    },
    "scrolled": true,
    "tags": []
   },
   "outputs": [
    {
     "data": {
      "image/png": "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\n",
      "text/plain": [
       "<Figure size 640x480 with 1 Axes>"
      ]
     },
     "metadata": {},
     "output_type": "display_data"
    }
   ],
   "source": [
    "plt.scatter(cdf.ENGINESIZE, cdf.CO2EMISSIONS,  color='blue')\n",
    "plt.xlabel(\"Engine size\")\n",
    "plt.ylabel(\"Emission\")\n",
    "plt.show()"
   ]
  },
  {
   "cell_type": "markdown",
   "metadata": {
    "button": false,
    "new_sheet": false,
    "run_control": {
     "read_only": false
    }
   },
   "source": [
    "#### Creating train and test dataset\n",
    "Train/Test Split involves splitting the dataset into training and testing sets respectively, which are mutually exclusive. After which, you train with the training set and test with the testing set. \n",
    "This will provide a more accurate evaluation on out-of-sample accuracy because the testing dataset is not part of the dataset that have been used to train the model. Therefore, it gives us a better understanding of how well our model generalizes on new data.\n",
    "\n",
    "We know the outcome of each data point in the testing dataset, making it great to test with! Since this data has not been used to train the model, the model has no knowledge of the outcome of these data points. So, in essence, it is truly an out-of-sample testing.\n",
    "\n",
    "Let's split our dataset into train and test sets. Around 80% of the entire dataset will be used for training and 20% for testing. We create a mask to select random rows using the  __np.random.rand()__ function: \n"
   ]
  },
  {
   "cell_type": "code",
   "execution_count": 7,
   "metadata": {
    "button": false,
    "new_sheet": false,
    "run_control": {
     "read_only": false
    },
    "tags": []
   },
   "outputs": [],
   "source": [
    "msk = np.random.rand(len(df)) < 0.8\n",
    "train = cdf[msk]\n",
    "test = cdf[~msk]"
   ]
  },
  {
   "cell_type": "markdown",
   "metadata": {
    "button": false,
    "new_sheet": false,
    "run_control": {
     "read_only": false
    }
   },
   "source": [
    "#### Train data distribution\n"
   ]
  },
  {
   "cell_type": "code",
   "execution_count": 8,
   "metadata": {
    "button": false,
    "new_sheet": false,
    "run_control": {
     "read_only": false
    },
    "tags": []
   },
   "outputs": [
    {
     "data": {
      "image/png": "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\n",
      "text/plain": [
       "<Figure size 640x480 with 1 Axes>"
      ]
     },
     "metadata": {},
     "output_type": "display_data"
    }
   ],
   "source": [
    "plt.scatter(train.ENGINESIZE, train.CO2EMISSIONS,  color='blue')\n",
    "plt.xlabel(\"Engine size\")\n",
    "plt.ylabel(\"Emission\")\n",
    "plt.show()"
   ]
  },
  {
   "cell_type": "markdown",
   "metadata": {
    "button": false,
    "new_sheet": false,
    "run_control": {
     "read_only": false
    }
   },
   "source": [
    "<h2 id=\"multiple_regression_model\">Multiple Regression Model</h2>\n"
   ]
  },
  {
   "cell_type": "markdown",
   "metadata": {},
   "source": [
    "In reality, there are multiple variables that impact the co2emission. When more than one independent variable is present, the process is called multiple linear regression. An example of multiple linear regression is predicting co2emission using the features FUELCONSUMPTION_COMB, EngineSize and Cylinders of cars. The good thing here is that multiple linear regression model is the extension of the simple linear regression model.\n"
   ]
  },
  {
   "cell_type": "code",
   "execution_count": 9,
   "metadata": {
    "button": false,
    "new_sheet": false,
    "run_control": {
     "read_only": false
    },
    "tags": []
   },
   "outputs": [
    {
     "name": "stderr",
     "output_type": "stream",
     "text": [
      "/home/jupyterlab/conda/envs/python/lib/python3.7/site-packages/sklearn/utils/validation.py:37: DeprecationWarning: distutils Version classes are deprecated. Use packaging.version instead.\n",
      "  LARGE_SPARSE_SUPPORTED = LooseVersion(scipy_version) >= '0.14.0'\n"
     ]
    },
    {
     "name": "stdout",
     "output_type": "stream",
     "text": [
      "Coefficients:  [[ 9.93416958  7.64615141 10.07542043]]\n"
     ]
    },
    {
     "name": "stderr",
     "output_type": "stream",
     "text": [
      "/home/jupyterlab/conda/envs/python/lib/python3.7/site-packages/sklearn/linear_model/least_angle.py:35: DeprecationWarning: `np.float` is a deprecated alias for the builtin `float`. To silence this warning, use `float` by itself. Doing this will not modify any behavior and is safe. If you specifically wanted the numpy scalar type, use `np.float64` here.\n",
      "Deprecated in NumPy 1.20; for more details and guidance: https://numpy.org/devdocs/release/1.20.0-notes.html#deprecations\n",
      "  eps=np.finfo(np.float).eps,\n",
      "/home/jupyterlab/conda/envs/python/lib/python3.7/site-packages/sklearn/linear_model/least_angle.py:597: DeprecationWarning: `np.float` is a deprecated alias for the builtin `float`. To silence this warning, use `float` by itself. Doing this will not modify any behavior and is safe. If you specifically wanted the numpy scalar type, use `np.float64` here.\n",
      "Deprecated in NumPy 1.20; for more details and guidance: https://numpy.org/devdocs/release/1.20.0-notes.html#deprecations\n",
      "  eps=np.finfo(np.float).eps, copy_X=True, fit_path=True,\n",
      "/home/jupyterlab/conda/envs/python/lib/python3.7/site-packages/sklearn/linear_model/least_angle.py:836: DeprecationWarning: `np.float` is a deprecated alias for the builtin `float`. To silence this warning, use `float` by itself. Doing this will not modify any behavior and is safe. If you specifically wanted the numpy scalar type, use `np.float64` here.\n",
      "Deprecated in NumPy 1.20; for more details and guidance: https://numpy.org/devdocs/release/1.20.0-notes.html#deprecations\n",
      "  eps=np.finfo(np.float).eps, copy_X=True, fit_path=True,\n",
      "/home/jupyterlab/conda/envs/python/lib/python3.7/site-packages/sklearn/linear_model/least_angle.py:862: DeprecationWarning: `np.float` is a deprecated alias for the builtin `float`. To silence this warning, use `float` by itself. Doing this will not modify any behavior and is safe. If you specifically wanted the numpy scalar type, use `np.float64` here.\n",
      "Deprecated in NumPy 1.20; for more details and guidance: https://numpy.org/devdocs/release/1.20.0-notes.html#deprecations\n",
      "  eps=np.finfo(np.float).eps, positive=False):\n",
      "/home/jupyterlab/conda/envs/python/lib/python3.7/site-packages/sklearn/linear_model/least_angle.py:1097: DeprecationWarning: `np.float` is a deprecated alias for the builtin `float`. To silence this warning, use `float` by itself. Doing this will not modify any behavior and is safe. If you specifically wanted the numpy scalar type, use `np.float64` here.\n",
      "Deprecated in NumPy 1.20; for more details and guidance: https://numpy.org/devdocs/release/1.20.0-notes.html#deprecations\n",
      "  max_n_alphas=1000, n_jobs=None, eps=np.finfo(np.float).eps,\n",
      "/home/jupyterlab/conda/envs/python/lib/python3.7/site-packages/sklearn/linear_model/least_angle.py:1344: DeprecationWarning: `np.float` is a deprecated alias for the builtin `float`. To silence this warning, use `float` by itself. Doing this will not modify any behavior and is safe. If you specifically wanted the numpy scalar type, use `np.float64` here.\n",
      "Deprecated in NumPy 1.20; for more details and guidance: https://numpy.org/devdocs/release/1.20.0-notes.html#deprecations\n",
      "  max_n_alphas=1000, n_jobs=None, eps=np.finfo(np.float).eps,\n",
      "/home/jupyterlab/conda/envs/python/lib/python3.7/site-packages/sklearn/linear_model/least_angle.py:1480: DeprecationWarning: `np.float` is a deprecated alias for the builtin `float`. To silence this warning, use `float` by itself. Doing this will not modify any behavior and is safe. If you specifically wanted the numpy scalar type, use `np.float64` here.\n",
      "Deprecated in NumPy 1.20; for more details and guidance: https://numpy.org/devdocs/release/1.20.0-notes.html#deprecations\n",
      "  eps=np.finfo(np.float).eps, copy_X=True, positive=False):\n",
      "/home/jupyterlab/conda/envs/python/lib/python3.7/site-packages/sklearn/linear_model/randomized_l1.py:152: DeprecationWarning: `np.float` is a deprecated alias for the builtin `float`. To silence this warning, use `float` by itself. Doing this will not modify any behavior and is safe. If you specifically wanted the numpy scalar type, use `np.float64` here.\n",
      "Deprecated in NumPy 1.20; for more details and guidance: https://numpy.org/devdocs/release/1.20.0-notes.html#deprecations\n",
      "  precompute=False, eps=np.finfo(np.float).eps,\n",
      "/home/jupyterlab/conda/envs/python/lib/python3.7/site-packages/sklearn/linear_model/randomized_l1.py:320: DeprecationWarning: `np.float` is a deprecated alias for the builtin `float`. To silence this warning, use `float` by itself. Doing this will not modify any behavior and is safe. If you specifically wanted the numpy scalar type, use `np.float64` here.\n",
      "Deprecated in NumPy 1.20; for more details and guidance: https://numpy.org/devdocs/release/1.20.0-notes.html#deprecations\n",
      "  eps=np.finfo(np.float).eps, random_state=None,\n",
      "/home/jupyterlab/conda/envs/python/lib/python3.7/site-packages/sklearn/linear_model/randomized_l1.py:580: DeprecationWarning: `np.float` is a deprecated alias for the builtin `float`. To silence this warning, use `float` by itself. Doing this will not modify any behavior and is safe. If you specifically wanted the numpy scalar type, use `np.float64` here.\n",
      "Deprecated in NumPy 1.20; for more details and guidance: https://numpy.org/devdocs/release/1.20.0-notes.html#deprecations\n",
      "  eps=4 * np.finfo(np.float).eps, n_jobs=None,\n"
     ]
    }
   ],
   "source": [
    "from sklearn import linear_model\n",
    "regr = linear_model.LinearRegression()\n",
    "x = np.asanyarray(train[['ENGINESIZE','CYLINDERS','FUELCONSUMPTION_COMB']])\n",
    "y = np.asanyarray(train[['CO2EMISSIONS']])\n",
    "regr.fit (x, y)\n",
    "# The coefficients\n",
    "print ('Coefficients: ', regr.coef_)"
   ]
  },
  {
   "cell_type": "markdown",
   "metadata": {},
   "source": [
    "As mentioned before, __Coefficient__ and __Intercept__  are the parameters of the fitted line. \n",
    "Given that it is a multiple linear regression model with 3 parameters and that the parameters are the intercept and coefficients of the hyperplane, sklearn can estimate them from our data. Scikit-learn uses plain Ordinary Least Squares method to solve this problem.\n",
    "\n",
    "#### Ordinary Least Squares (OLS)\n",
    "OLS is a method for estimating the unknown parameters in a linear regression model. OLS chooses the parameters of a linear function of a set of explanatory variables by minimizing the sum of the squares of the differences between the target dependent variable and those predicted by the linear function. In other words, it tries to minimizes the sum of squared errors (SSE) or mean squared error (MSE) between the target variable (y) and our predicted output ($\\hat{y}$) over all samples in the dataset.\n",
    "\n",
    "OLS can find the best parameters using of the following methods:\n",
    "* Solving the model parameters analytically using closed-form equations\n",
    "* Using an optimization algorithm (Gradient Descent, Stochastic Gradient Descent, Newton’s Method, etc.)\n"
   ]
  },
  {
   "cell_type": "markdown",
   "metadata": {},
   "source": [
    "<h2 id=\"prediction\">Prediction</h2>\n"
   ]
  },
  {
   "cell_type": "code",
   "execution_count": 10,
   "metadata": {
    "button": false,
    "new_sheet": false,
    "run_control": {
     "read_only": false
    },
    "tags": []
   },
   "outputs": [
    {
     "name": "stdout",
     "output_type": "stream",
     "text": [
      "Residual sum of squares: 581.53\n",
      "Variance score: 0.84\n"
     ]
    }
   ],
   "source": [
    "y_hat= regr.predict(test[['ENGINESIZE','CYLINDERS','FUELCONSUMPTION_COMB']])\n",
    "x = np.asanyarray(test[['ENGINESIZE','CYLINDERS','FUELCONSUMPTION_COMB']])\n",
    "y = np.asanyarray(test[['CO2EMISSIONS']])\n",
    "print(\"Residual sum of squares: %.2f\"\n",
    "      % np.mean((y_hat - y) ** 2))\n",
    "\n",
    "# Explained variance score: 1 is perfect prediction\n",
    "print('Variance score: %.2f' % regr.score(x, y))"
   ]
  },
  {
   "cell_type": "markdown",
   "metadata": {},
   "source": [
    "__Explained variance regression score:__  \n",
    "Let $\\hat{y}$ be the estimated target output, y the corresponding (correct) target output, and Var be the Variance (the square of the standard deviation). Then the explained variance is estimated as follows:\n",
    "\n",
    "$\\texttt{explainedVariance}(y, \\hat{y}) = 1 - \\frac{Var\\{ y - \\hat{y}\\}}{Var\\{y\\}}$  \n",
    "The best possible score is 1.0, the lower values are worse.\n"
   ]
  },
  {
   "cell_type": "markdown",
   "metadata": {},
   "source": [
    "<h2 id=\"practice\">Practice</h2>\n",
    "Try to use a multiple linear regression with the same dataset, but this time use FUELCONSUMPTION_CITY and FUELCONSUMPTION_HWY instead of FUELCONSUMPTION_COMB. Does it result in better accuracy?\n"
   ]
  },
  {
   "cell_type": "code",
   "execution_count": 13,
   "metadata": {
    "tags": []
   },
   "outputs": [
    {
     "ename": "SyntaxError",
     "evalue": "EOL while scanning string literal (464655060.py, line 10)",
     "output_type": "error",
     "traceback": [
      "\u001b[0;36m  File \u001b[0;32m\"/tmp/ipykernel_71/464655060.py\"\u001b[0;36m, line \u001b[0;32m10\u001b[0m\n\u001b[0;31m    print(\"Variance score: %.2f' % regr.score(x, y))\u001b[0m\n\u001b[0m                                                    ^\u001b[0m\n\u001b[0;31mSyntaxError\u001b[0m\u001b[0;31m:\u001b[0m EOL while scanning string literal\n"
     ]
    }
   ],
   "source": [
    "regr = linear_model.LinearRegression()\n",
    "x = np.asanyarray(train[['ENGINESIZE','CYLINDERS','FUELCONSUMPTION_CITY','FUELCONSUMPTION_HWY']])\n",
    "y = np.asanyarray(train[['CO2EMISSIONS']])\n",
    "regr.fit (x, y)\n",
    "print ('Coefficients: ', regr.coef_)\n",
    "y_= regr.predict(test[['ENGINESIZE','CYLINDERS','FUELCONSUMPTION_CITY','FUELCONSUMPTION_HWY']])\n",
    "x =np.asanyarray(test[['ENGINESIZE','CYLINDERS','FUELCONSUMPTION_CITY','FUELCONSUMPTION_HWY']])\n",
    "y = np.asanyarray(test[['CO2EMISSIONS']])\n",
    "print(\"Residual sum of squares: %.2f\"% np.mean((y_ - y) ** 2))\n",
    "print(\'Variance score: %.2f' % regr.score(x, y))\n"
   ]
  },
  {
   "cell_type": "markdown",
   "metadata": {},
   "source": [
    "<details><summary>Click here for the solution</summary>\n",
    "\n",
    "```python\n",
    "regr = linear_model.LinearRegression()\n",
    "x = np.asanyarray(train[['ENGINESIZE','CYLINDERS','FUELCONSUMPTION_CITY','FUELCONSUMPTION_HWY']])\n",
    "y = np.asanyarray(train[['CO2EMISSIONS']])\n",
    "regr.fit (x, y)\n",
    "print ('Coefficients: ', regr.coef_)\n",
    "y_= regr.predict(test[['ENGINESIZE','CYLINDERS','FUELCONSUMPTION_CITY','FUELCONSUMPTION_HWY']])\n",
    "x = np.asanyarray(test[['ENGINESIZE','CYLINDERS','FUELCONSUMPTION_CITY','FUELCONSUMPTION_HWY']])\n",
    "y = np.asanyarray(test[['CO2EMISSIONS']])\n",
    "print(\"Residual sum of squares: %.2f\"% np.mean((y_ - y) ** 2))\n",
    "print('Variance score: %.2f' % regr.score(x, y))\n",
    "\n",
    "```\n",
    "\n",
    "</details>\n"
   ]
  },
  {
   "cell_type": "markdown",
   "metadata": {
    "button": false,
    "new_sheet": false,
    "run_control": {
     "read_only": false
    }
   },
   "source": [
    "<h2>Want to learn more?</h2>\n",
    "\n",
    "IBM SPSS Modeler is a comprehensive analytics platform that has many machine learning algorithms. It has been designed to bring predictive intelligence to decisions made by individuals, by groups, by systems – by your enterprise as a whole. A free trial is available through this course, available here: <a href=\"https://www.ibm.com/analytics/spss-statistics-software?utm_medium=Exinfluencer&utm_source=Exinfluencer&utm_content=000026UJ&utm_term=10006555&utm_id=NA-SkillsNetwork-Channel-SkillsNetworkCoursesIBMDeveloperSkillsNetworkML0101ENSkillsNetwork1047-2023-01-01\">SPSS Modeler</a>\n",
    "\n",
    "Also, you can use Watson Studio to run these notebooks faster with bigger datasets. Watson Studio is IBM's leading cloud solution for data scientists, built by data scientists. With Jupyter notebooks, RStudio, Apache Spark and popular libraries pre-packaged in the cloud, Watson Studio enables data scientists to collaborate on their projects without having to install anything. Join the fast-growing community of Watson Studio users today with a free account at <a href=\"https://www.ibm.com/cloud/watson-studio?utm_medium=Exinfluencer&utm_source=Exinfluencer&utm_content=000026UJ&utm_term=10006555&utm_id=NA-SkillsNetwork-Channel-SkillsNetworkCoursesIBMDeveloperSkillsNetworkML0101ENSkillsNetwork1047-2023-01-01\">Watson Studio</a>\n",
    "\n"
   ]
  },
  {
   "cell_type": "markdown",
   "metadata": {},
   "source": [
    "### Thank you for completing this lab!\n",
    "\n",
    "\n",
    "## Author\n",
    "\n",
    "Saeed Aghabozorgi\n",
    "\n",
    "\n",
    "### Other Contributors\n",
    "\n",
    "<a href=\"https://www.linkedin.com/in/joseph-s-50398b136/?utm_medium=Exinfluencer&utm_source=Exinfluencer&utm_content=000026UJ&utm_term=10006555&utm_id=NA-SkillsNetwork-Channel-SkillsNetworkCoursesIBMDeveloperSkillsNetworkML0101ENSkillsNetwork1047-2023-01-01\">Joseph Santarcangelo</a>\n",
    "\n",
    "\n",
    "\n",
    "\n",
    "## Change Log\n",
    "\n",
    "\n",
    "|  Date (YYYY-MM-DD) |  Version | Changed By  |  Change Description |\n",
    "|---|---|---|---|\n",
    "| 2020-11-03  | 2.1  | Lakshmi  | Made changes in URL |\n",
    "| 2020-08-27  | 2.0  | Lavanya  |  Moved lab to course repo in GitLab |\n",
    "|   |   |   |   |\n",
    "|   |   |   |   |\n",
    "\n",
    "\n",
    "## <h3 align=\"center\"> © IBM Corporation 2020. All rights reserved. <h3/>\n"
   ]
  }
 ],
 "metadata": {
  "kernelspec": {
   "display_name": "Python",
   "language": "python",
   "name": "conda-env-python-py"
  },
  "language_info": {
   "codemirror_mode": {
    "name": "ipython",
    "version": 3
   },
   "file_extension": ".py",
   "mimetype": "text/x-python",
   "name": "python",
   "nbconvert_exporter": "python",
   "pygments_lexer": "ipython3",
   "version": "3.7.12"
  }
 },
 "nbformat": 4,
 "nbformat_minor": 4
}
